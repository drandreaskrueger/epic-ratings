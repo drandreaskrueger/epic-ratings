{
 "cells": [
  {
   "attachments": {},
   "cell_type": "markdown",
   "metadata": {},
   "source": [
    "# `tweaker.ipynb` **v01** \n",
    "\n",
    "### tweaking the `settings.py` for better 'epic to metacritic' translation\n",
    "Possibly outdated. And this might not even be important. It's just a try ..."
   ]
  },
  {
   "cell_type": "code",
   "execution_count": null,
   "metadata": {},
   "outputs": [],
   "source": [
    "from pprint import pprint\n",
    "\n",
    "sys.path.append('..') # add the parent folder, so this can be found:\n",
    "import downloader, filesparser \n",
    "from settings import *\n",
    "downloadsFolder = os.path.join(\"..\", downloadsFolder)\n",
    "epicHistoryFile = \"PurchaseHistory_plaintext_20221226.txt\"\n",
    "epicHistoryFile = os.path.join(\"..\", epicHistoryFile)"
   ]
  },
  {
   "cell_type": "code",
   "execution_count": null,
   "metadata": {},
   "outputs": [],
   "source": [
    "myCsv = downloader.readEpicgamesPurchaseHistoryFile(epicHistoryFile)\n",
    "filenames = filesparser.myfiles(downloadsFolder, platformsOrdered)\n"
   ]
  }
 ],
 "metadata": {
  "kernelspec": {
   "display_name": ".venv",
   "language": "python",
   "name": "python3"
  },
  "language_info": {
   "codemirror_mode": {
    "name": "ipython",
    "version": 3
   },
   "file_extension": ".py",
   "mimetype": "text/x-python",
   "name": "python",
   "nbconvert_exporter": "python",
   "pygments_lexer": "ipython3",
   "version": "3.10.9 (tags/v3.10.9:1dd9be6, Dec  6 2022, 20:01:21) [MSC v.1934 64 bit (AMD64)]"
  },
  "orig_nbformat": 4,
  "vscode": {
   "interpreter": {
    "hash": "dc82e8d994478d839412480effdb8b58988141640f3c58839d054a90b7e382bd"
   }
  }
 },
 "nbformat": 4,
 "nbformat_minor": 2
}
