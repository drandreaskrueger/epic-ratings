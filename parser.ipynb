{
 "cells": [
  {
   "cell_type": "code",
   "execution_count": null,
   "metadata": {},
   "outputs": [],
   "source": [
    "!pip3 install html5lib bs4"
   ]
  },
  {
   "cell_type": "code",
   "execution_count": null,
   "metadata": {},
   "outputs": [],
   "source": [
    "import os\n",
    "from pprint import pprint\n",
    "from bs4 import BeautifulSoup\n",
    "\n",
    "from settings import downloadsFolder, platformsOrdered"
   ]
  },
  {
   "cell_type": "code",
   "execution_count": null,
   "metadata": {},
   "outputs": [],
   "source": [
    "filenames = sorted([name for name in os.listdir(downloadsFolder) \n",
    "                     if name.split(\"_\")[0] in platformsOrdered])"
   ]
  },
  {
   "cell_type": "code",
   "execution_count": null,
   "metadata": {},
   "outputs": [],
   "source": [
    "def parseMetascore(soup, urlpath, resultsDict):\n",
    "    # metascore\n",
    "    ms = soup.find('div', attrs = {'class':'score_summary metascore_summary'})\n",
    "    metascoreFind = ms.find('span', attrs = {'itemprop':'ratingValue'})\n",
    "    resultsDict[\"metascore\"] = int(metascoreFind.text) if metascoreFind else 0\n",
    "\n",
    "    # metascore number of reviews\n",
    "    summary = ms.find('div', attrs = {'class' : 'summary'})\n",
    "    criticReviews = summary.find('a', attrs = {'href':'%s/critic-reviews' % urlpath})\n",
    "    resultsDict[\"metascoreBased\"] = int(criticReviews.find('span').text.strip()) if criticReviews else 0\n",
    "\n",
    "def parseUserscore(soup, urlpath, resultsDict):\n",
    "    # userscore\n",
    "    us = soup.find('div', attrs = {'class':'userscore_wrap feature_userscore'})\n",
    "    # print (us.prettify())\n",
    "    userscoreTags = us.select(\"div[class^=metascore_w\\ user\\ large\\ game]\") # begins with operator\n",
    "    if len(userscoreTags) !=1: \n",
    "        raise Error(\"number of userscore tags not equal 1\")\n",
    "    userscoreText = userscoreTags[0].text.strip()\n",
    "    resultsDict[\"userscore\"] = 0 if userscoreText==\"tbd\" else float(userscoreText)\n",
    "\n",
    "    # userscore number of reviews\n",
    "    usersummary = us.find('div', attrs = {'class' : 'summary'})\n",
    "    userReviews = usersummary.find('a', attrs = {'href':'%s/user-reviews' % urlpath})\n",
    "    answer=0\n",
    "    if userReviews:\n",
    "        answer = int(userReviews.text.replace(\"Ratings\",\"\").strip())\n",
    "    else:\n",
    "        um = usersummary.find('span', attrs = {'class':'connect4_msg'}).text.strip()\n",
    "        answer = -int(um.replace(\"Awaiting\",\"\").replace(\"more rating\",\"\").replace(\"s\",\"\"))\n",
    "    resultsDict[\"userscoreBased\"] = answer\n",
    "\n",
    "def parseOtherInfos(soup, resultsDict):\n",
    "    # forget HTML, just parse the text\n",
    "    textlines = [lines.strip() for lines in soup.body.text.split(\"\\n\") \n",
    "                    if lines.strip() != \"\"]\n",
    "    #print(\"\\n\".join(textlines))\n",
    "    \n",
    "    # number of players\n",
    "    try:\n",
    "        nopsIndex = textlines.index(\"# of players:\")\n",
    "        nops = textlines[nopsIndex+1] if nopsIndex else \"\"\n",
    "    except:\n",
    "        nops = \"\"\n",
    "    resultsDict[\"nops\"]=nops\n",
    "    # developer company\n",
    "    resultsDict[\"developer\"] = textlines[textlines.index(\"Developer:\")+1]\n",
    "    resultsDict[\"released\"] = textlines[textlines.index(\"Release Date:\")+1]\n",
    "\n",
    "    # genres are all in one line, but with many spaces inbetween    \n",
    "    i = next(i for i,text in enumerate(textlines) if text.startswith(\"Genre(s):\"))\n",
    "    resultsDict[\"genres\"] = textlines[i].replace(\"Genre(s):\", \"\").replace(\" \", \"\") # .split(\",\")\n",
    "\n"
   ]
  },
  {
   "cell_type": "code",
   "execution_count": null,
   "metadata": {},
   "outputs": [],
   "source": [
    "filename2results={}\n",
    "for i, name in enumerate(filenames): # [30:36]):\n",
    "    platform, rest = name.split(\"_\")\n",
    "    game = rest.replace(\".html\", \"\")\n",
    "    resultsDict={\"platform\" : platform, \"game\": game}\n",
    "\n",
    "    urlpath = \"/game/%s/%s\" % (platform, game)\n",
    "    print (i, platform, game, end =\": \") # urlpath, end=\" \")\n",
    "\n",
    "    with open(os.path.join(downloadsFolder, name), \"r\") as f:\n",
    "        page = f.read()\n",
    "    soup = BeautifulSoup(page, 'html5lib')\n",
    "    # print(soup.prettify())\n",
    "\n",
    "    parseMetascore(soup, urlpath, resultsDict)\n",
    "    print (\"ms={metascore:d} ({metascoreBased:d} revs)\".format(**resultsDict), end=\"\")\n",
    "\n",
    "    resultsDict[\"userscore\"], resultsDict[\"userscoreBased\"] = 0, 0\n",
    "    try:\n",
    "        parseUserscore(soup, urlpath, resultsDict)\n",
    "    except:\n",
    "        pass\n",
    "    # pprint(resultsDict)\n",
    "    print (\"; us={userscore:.1f} ({userscoreBased:d} revs)\".format(**resultsDict), end=\"\")\n",
    "\n",
    "    parseOtherInfos(soup, resultsDict)\n",
    "    print (\"; released={released:s}; Dev={developer:s}; Genres={genres:s}; #plyrs={nops:s}\".format(**resultsDict))\n",
    "\n",
    "    filename2results[game+\"_\"+platform] = resultsDict\n"
   ]
  },
  {
   "cell_type": "code",
   "execution_count": null,
   "metadata": {},
   "outputs": [],
   "source": [
    "pprint(filename2results)"
   ]
  },
  {
   "cell_type": "code",
   "execution_count": null,
   "metadata": {},
   "outputs": [],
   "source": []
  }
 ],
 "metadata": {
  "kernelspec": {
   "display_name": ".venv",
   "language": "python",
   "name": "python3"
  },
  "language_info": {
   "codemirror_mode": {
    "name": "ipython",
    "version": 3
   },
   "file_extension": ".py",
   "mimetype": "text/x-python",
   "name": "python",
   "nbconvert_exporter": "python",
   "pygments_lexer": "ipython3",
   "version": "3.10.9"
  },
  "orig_nbformat": 4,
  "vscode": {
   "interpreter": {
    "hash": "dc82e8d994478d839412480effdb8b58988141640f3c58839d054a90b7e382bd"
   }
  }
 },
 "nbformat": 4,
 "nbformat_minor": 2
}
