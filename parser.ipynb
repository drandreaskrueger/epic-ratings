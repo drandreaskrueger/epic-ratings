{
 "cells": [
  {
   "cell_type": "code",
   "execution_count": null,
   "metadata": {},
   "outputs": [],
   "source": [
    "!pip3 install html5lib bs4"
   ]
  },
  {
   "cell_type": "code",
   "execution_count": null,
   "metadata": {},
   "outputs": [],
   "source": [
    "import os\n",
    "from bs4 import BeautifulSoup\n",
    "\n",
    "from settings import downloadsFolder, platformsOrdered"
   ]
  },
  {
   "cell_type": "code",
   "execution_count": null,
   "metadata": {},
   "outputs": [],
   "source": [
    "filenames = sorted([name for name in os.listdir(downloadsFolder) \n",
    "                     if name.split(\"_\")[0] in platformsOrdered])"
   ]
  },
  {
   "cell_type": "code",
   "execution_count": null,
   "metadata": {},
   "outputs": [],
   "source": [
    "for i, name in enumerate(filenames[37:]):\n",
    "    platform, rest = name.split(\"_\")\n",
    "    game = rest.replace(\".html\", \"\")\n",
    "    urlpath = \"/game/%s/%s\" % (platform, game)\n",
    "    print (i, platform, game, end =\": \") # urlpath, end=\" \")\n",
    "\n",
    "    with open(os.path.join(downloadsFolder, name), \"r\") as f:\n",
    "        page = f.read()\n",
    "    # print(page)\n",
    "    soup = BeautifulSoup(page, 'html5lib')\n",
    "    # print(soup.prettify())\n",
    "    \n",
    "    ms = soup.find('div', attrs = {'class':'score_summary metascore_summary'})\n",
    "    metascoreFind = ms.find('span', attrs = {'itemprop':'ratingValue'})\n",
    "    # print (metascoreFind)\n",
    "    metascore = int(metascoreFind.text) if metascoreFind else -1\n",
    "    summary = ms.find('div', attrs = {'class' : 'summary'})\n",
    "    criticReviews = summary.find('a', attrs = {'href':'%s/critic-reviews' % urlpath})\n",
    "    metascoreBased = int(criticReviews.find('span').text.strip()) if criticReviews else 0\n",
    "    print (\"ms=%d (%d revs)\" % (metascore, metascoreBased), end=\" \")\n",
    "\n",
    "    us = soup.find('div', attrs = {'class':'userscore_wrap feature_userscore'})\n",
    "    # print (us.prettify())\n",
    "    userscoreTags = us.select(\"div[class^=metascore_w\\ user\\ large\\ game]\")\n",
    "    print(userscoreTags)\n",
    "    if len(userscoreTags) !=1: raise Error()\n",
    "    userscoreText = userscoreTags[0].text.strip()\n",
    "    userscore = -1 if userscoreText==\"tbd\" else float(userscoreText)\n",
    "    usersummary = us.find('div', attrs = {'class' : 'summary'})\n",
    "    userReviews = usersummary.find('a', attrs = {'href':'%s/user-reviews' % urlpath})\n",
    "\n",
    "\n",
    "    \n",
    "    if userReviews:\n",
    "        userscoreBased = int(userReviews.text.replace(\"Ratings\",\"\").strip())\n",
    "    else:\n",
    "        um = usersummary.find('span', attrs = {'class':'connect4_msg'}).text.strip()\n",
    "        userscoreBased = -int(um.replace(\"Awaiting\",\"\").replace(\"more rating\",\"\").replace(\"s\",\"\"))\n",
    "    print (\"us=%.1f (%d revs)\" % (userscore, userscoreBased), end=\" \")\n",
    "\n",
    "    textlines = [lines.strip() for lines in soup.body.text.split(\"\\n\") \n",
    "                    if lines.strip() != \"\"]\n",
    "    try:\n",
    "        nopsIndex = textlines.index(\"# of players:\")\n",
    "        nops = textlines[nopsIndex+1] if nopsIndex else \"\"\n",
    "    except:\n",
    "        nops = \"\"\n",
    "\n",
    "    developer = textlines[textlines.index(\"Developer:\")+1]\n",
    "    print (\"Dev=%s, #plyrs=%s\" % (developer, nops)) # .prettify())\n"
   ]
  },
  {
   "cell_type": "code",
   "execution_count": null,
   "metadata": {},
   "outputs": [],
   "source": []
  }
 ],
 "metadata": {
  "kernelspec": {
   "display_name": ".venv",
   "language": "python",
   "name": "python3"
  },
  "language_info": {
   "codemirror_mode": {
    "name": "ipython",
    "version": 3
   },
   "file_extension": ".py",
   "mimetype": "text/x-python",
   "name": "python",
   "nbconvert_exporter": "python",
   "pygments_lexer": "ipython3",
   "version": "3.10.9"
  },
  "orig_nbformat": 4,
  "vscode": {
   "interpreter": {
    "hash": "dc82e8d994478d839412480effdb8b58988141640f3c58839d054a90b7e382bd"
   }
  }
 },
 "nbformat": 4,
 "nbformat_minor": 2
}
